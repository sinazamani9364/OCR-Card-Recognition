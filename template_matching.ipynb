{
  "nbformat": 4,
  "nbformat_minor": 0,
  "metadata": {
    "colab": {
      "provenance": []
    },
    "kernelspec": {
      "name": "python3",
      "display_name": "Python 3"
    },
    "language_info": {
      "name": "python"
    }
  },
  "cells": [
    {
      "cell_type": "code",
      "execution_count": null,
      "metadata": {
        "id": "3RIvjywwqBa7"
      },
      "outputs": [],
      "source": [
        "from imutils import contours\n",
        "import numpy as np\n",
        "import imutils\n",
        "import cv2\n",
        "from google.colab.patches import cv2_imshow"
      ]
    },
    {
      "cell_type": "code",
      "source": [
        "# load the template\n",
        "ref = cv2.imread('template.png')\n",
        "ref = cv2.cvtColor(ref, cv2.COLOR_BGR2GRAY)\n",
        "ref = cv2.threshold(ref, 10, 255, cv2.THRESH_BINARY_INV)[1]\n",
        "cv2_imshow(ref)"
      ],
      "metadata": {
        "colab": {
          "base_uri": "https://localhost:8080/",
          "height": 169
        },
        "id": "emKYxFC8snUu",
        "outputId": "a29ce6f0-fcbb-461d-e470-2bf8b83f2e5a"
      },
      "execution_count": null,
      "outputs": [
        {
          "output_type": "display_data",
          "data": {
            "text/plain": [
              "<PIL.Image.Image image mode=L size=729x152 at 0x7F93ABDE4520>"
            ],
            "image/png": "[encoded data removed]"
          },
          "metadata": {}
        }
      ]
    },
    {
      "cell_type": "code",
      "source": [
        "# find contours ot the template and sort them from left to right\n",
        "refCnts = cv2.findContours(ref.copy(), cv2.RETR_EXTERNAL, cv2.CHAIN_APPROX_SIMPLE)\n",
        "refCnts = refCnts[0]\n",
        "refCnts = contours.sort_contours(refCnts, method=\"left-to-right\")[0]"
      ],
      "metadata": {
        "id": "tgnywubDsnRF"
      },
      "execution_count": null,
      "outputs": []
    },
    {
      "cell_type": "code",
      "source": [
        "# initialize a dictionary to map digit name to the ROI\n",
        "digits = {}\n",
        "\n",
        "# loop over the template contours\n",
        "for (i, cnt) in enumerate(refCnts):\n",
        "\t# compute the bounding box for the digit, extract it, and resize it to a fixed size\n",
        "\t(x, y, w, h) = cv2.boundingRect(cnt)\n",
        "\troi = ref[y : y + h, x : x + w]\n",
        "\tcv2_imshow(roi)\n",
        "\tprint()\n",
        "\n",
        "\troi = cv2.resize(roi, (57, 88))\n",
        "\n",
        "\t# mapping the digit name to the ROI\n",
        "\tdigits[i] = roi"
      ],
      "metadata": {
        "id": "PT_glICssnN8",
        "colab": {
          "base_uri": "https://localhost:8080/",
          "height": 621
        },
        "outputId": "c98e8713-7f93-4ab7-da6d-88a1176791f4"
      },
      "execution_count": null,
      "outputs": [
        {
          "output_type": "display_data",
          "data": {
            "text/plain": [
              "<PIL.Image.Image image mode=L size=28x43 at 0x7F93ABDE71F0>"
            ],
            "image/png": "[encoded data removed]"
          },
          "metadata": {}
        },
        {
          "output_type": "stream",
          "name": "stdout",
          "text": [
            "\n"
          ]
        },
        {
          "output_type": "display_data",
          "data": {
            "text/plain": [
              "<PIL.Image.Image image mode=L size=16x42 at 0x7F93ABDE76D0>"
            ],
            "image/png": "[encoded data removed]"
          },
          "metadata": {}
        },
        {
          "output_type": "stream",
          "name": "stdout",
          "text": [
            "\n"
          ]
        },
        {
          "output_type": "display_data",
          "data": {
            "text/plain": [
              "<PIL.Image.Image image mode=L size=28x43 at 0x7F93ABDE71F0>"
            ],
            "image/png": "[encoded data removed]"
          },
          "metadata": {}
        },
        {
          "output_type": "stream",
          "name": "stdout",
          "text": [
            "\n"
          ]
        },
        {
          "output_type": "display_data",
          "data": {
            "text/plain": [
              "<PIL.Image.Image image mode=L size=26x44 at 0x7F93ABDE76D0>"
            ],
            "image/png": "[encoded data removed]"
          },
          "metadata": {}
        },
        {
          "output_type": "stream",
          "name": "stdout",
          "text": [
            "\n"
          ]
        },
        {
          "output_type": "display_data",
          "data": {
            "text/plain": [
              "<PIL.Image.Image image mode=L size=30x42 at 0x7F93ABDE7700>"
            ],
            "image/png": "[encoded data removed]"
          },
          "metadata": {}
        },
        {
          "output_type": "stream",
          "name": "stdout",
          "text": [
            "\n"
          ]
        },
        {
          "output_type": "display_data",
          "data": {
            "text/plain": [
              "<PIL.Image.Image image mode=L size=28x43 at 0x7F93ABDE7FD0>"
            ],
            "image/png": "[encoded data removed]"
          },
          "metadata": {}
        },
        {
          "output_type": "stream",
          "name": "stdout",
          "text": [
            "\n"
          ]
        },
        {
          "output_type": "display_data",
          "data": {
            "text/plain": [
              "<PIL.Image.Image image mode=L size=28x44 at 0x7F93ABDE5120>"
            ],
            "image/png": "[encoded data removed]"
          },
          "metadata": {}
        },
        {
          "output_type": "stream",
          "name": "stdout",
          "text": [
            "\n"
          ]
        },
        {
          "output_type": "display_data",
          "data": {
            "text/plain": [
              "<PIL.Image.Image image mode=L size=27x41 at 0x7F93ABDE6140>"
            ],
            "image/png": "[encoded data removed]"
          },
          "metadata": {}
        },
        {
          "output_type": "stream",
          "name": "stdout",
          "text": [
            "\n"
          ]
        },
        {
          "output_type": "display_data",
          "data": {
            "text/plain": [
              "<PIL.Image.Image image mode=L size=28x44 at 0x7F93ABDE7610>"
            ],
            "image/png": "[encoded data removed]"
          },
          "metadata": {}
        },
        {
          "output_type": "stream",
          "name": "stdout",
          "text": [
            "\n"
          ]
        },
        {
          "output_type": "display_data",
          "data": {
            "text/plain": [
              "<PIL.Image.Image image mode=L size=28x44 at 0x7F93ABDE71F0>"
            ],
            "image/png": "[encoded data removed]"
          },
          "metadata": {}
        },
        {
          "output_type": "stream",
          "name": "stdout",
          "text": [
            "\n"
          ]
        }
      ]
    },
    {
      "cell_type": "code",
      "source": [
        "# initialize a rectangular (wider than it is tall) and square structuring kernel\n",
        "rectKernel = cv2.getStructuringElement(cv2.MORPH_RECT, (9, 3))\n",
        "sqKernel = cv2.getStructuringElement(cv2.MORPH_RECT, (5, 5))"
      ],
      "metadata": {
        "id": "DGJljcF7snCC"
      },
      "execution_count": null,
      "outputs": []
    },
    {
      "cell_type": "code",
      "source": [
        "# load the input image, resize it, and convert it to grayscale\n",
        "image = cv2.imread('card.jpg')\n",
        "image = imutils.resize(image, width=300)\n",
        "gray = cv2.cvtColor(image, cv2.COLOR_BGR2GRAY)\n",
        "cv2_imshow(gray)"
      ],
      "metadata": {
        "id": "-sy7w6gttiCy"
      },
      "execution_count": null,
      "outputs": []
    },
    {
      "cell_type": "code",
      "source": [
        "# apply a tophat morphological operator to find light regions against a dark background\n",
        "tophat = cv2.morphologyEx(gray, cv2.MORPH_TOPHAT, rectKernel)\n",
        "cv2_imshow(tophat)"
      ],
      "metadata": {
        "id": "3W5xPdaStiAM"
      },
      "execution_count": null,
      "outputs": []
    },
    {
      "cell_type": "code",
      "source": [
        "# compute the gradient of the tophat image, then scale the rest back into the range [0, 255]\n",
        "gradX = cv2.Sobel(tophat, ddepth=cv2.CV_32F, dx=1, dy=0, ksize=-1)\n",
        "cv2_imshow(gradX)\n",
        "gradX = np.absolute(gradX)\n",
        "(minVal, maxVal) = (np.min(gradX), np.max(gradX))\n",
        "gradX = (255 * ((gradX - minVal) / (maxVal - minVal)))\n",
        "gradX = gradX.astype(\"uint8\")\n",
        "cv2_imshow(gradX)"
      ],
      "metadata": {
        "id": "eVGcgrjOth9u"
      },
      "execution_count": null,
      "outputs": []
    },
    {
      "cell_type": "code",
      "source": [
        "# apply a closing operation using the rectangular kernel to help fill the gaps inside credit card number digits,\n",
        "# then apply Otsu's thresholding method to binarize the image\n",
        "gradX = cv2.morphologyEx(gradX, cv2.MORPH_CLOSE, rectKernel)\n",
        "cv2_imshow(gradX)\n",
        "thresh = cv2.threshold(gradX, 0, 255, cv2.THRESH_BINARY | cv2.THRESH_OTSU)[1]\n",
        "cv2_imshow(thresh)"
      ],
      "metadata": {
        "id": "maMmHpMBth7W"
      },
      "execution_count": null,
      "outputs": []
    },
    {
      "cell_type": "code",
      "source": [
        "# apply a second closing operation to the binary image\n",
        "# thresh = cv2.morphologyEx(thresh, cv2.MORPH_CLOSE, sqKernel)\n",
        "# cv2_imshow(thresh)"
      ],
      "metadata": {
        "id": "APP_3XjOth48"
      },
      "execution_count": null,
      "outputs": []
    },
    {
      "cell_type": "code",
      "source": [
        "# find contours in the thresholded image\n",
        "cnts = cv2.findContours(thresh.copy(), cv2.RETR_EXTERNAL, cv2.CHAIN_APPROX_SIMPLE)\n",
        "cnts = cnts[0]"
      ],
      "metadata": {
        "id": "u7rfcUPHuOOl"
      },
      "execution_count": null,
      "outputs": []
    },
    {
      "cell_type": "code",
      "source": [
        "# initialize the list of digit locations\n",
        "locs = []\n",
        "\n",
        "# loop over the contours\n",
        "for (i, c) in enumerate(cnts):\n",
        "\t# compute the bounding box of the contour, then use the bounding box coordinates to derive the aspect ratio\n",
        "\tx, y, w, h = cv2.boundingRect(c)\n",
        "\tar = w / float(h)\n",
        "\n",
        "\t# since credit cards used a fixed size fonts with 4 groups of 4 digits,\n",
        "\t# we can filter potential contours based on the aspect ratio\n",
        "\tif ar > 2.5 and ar < 4.0:\n",
        "\t\t# contours can further be filtered on minimum/maximum width and height\n",
        "\t\tif (w > 40 and w < 55) and (h > 10 and h < 20):\n",
        "\t\t\tlocs.append((x, y, w, h))"
      ],
      "metadata": {
        "id": "ytVXgr9iuOMC"
      },
      "execution_count": null,
      "outputs": []
    },
    {
      "cell_type": "code",
      "source": [
        "# sort the digit locations from left-to-right\n",
        "locs = sorted(locs, key=lambda x:x[0])"
      ],
      "metadata": {
        "id": "lb61IgN_uOJg"
      },
      "execution_count": null,
      "outputs": []
    },
    {
      "cell_type": "code",
      "source": [
        "# initialize the list of classified digits\n",
        "output = []\n",
        "\n",
        "# loop over the 4 groupings of 4 digits\n",
        "for (i, (gX, gY, gW, gH)) in enumerate(locs):\n",
        "  # initialize the list of group digits\n",
        "  groupOutput = []\n",
        "\n",
        "  # extract the group ROI of 4 digits from the grayscale image,\n",
        "  # then apply thresholding to segment the digits from the background of the credit card\n",
        "  group = gray[gY - 5:gY + gH + 5, gX - 5:gX + gW + 5]\n",
        "  cv2_imshow(group)\n",
        "  group = cv2.threshold(group, 0, 255, cv2.THRESH_BINARY | cv2.THRESH_OTSU)[1]\n",
        "  cv2_imshow(group)\n",
        "\n",
        "  # detect the contours of each individual digit in the group,\n",
        "  # then sort the digit contours from left to right\n",
        "  digitCnts = cv2.findContours(group.copy(), cv2.RETR_EXTERNAL, cv2.CHAIN_APPROX_SIMPLE)\n",
        "  digitCnts = digitCnts[0]\n",
        "  digitCnts = contours.sort_contours(digitCnts, method=\"left-to-right\")[0]\n",
        "\n",
        "  # loop over the digit contours\n",
        "  for c in digitCnts:\n",
        "    # compute the bounding box of the individual digit, extract the digit,\n",
        "    # and resize it to have the same fixed size as the template images\n",
        "    (x, y, w, h) = cv2.boundingRect(c)\n",
        "    roi = group[y:y + h, x:x + w]\n",
        "    cv2_imshow(roi)\n",
        "    roi = cv2.resize(roi, (57, 88))\n",
        "\n",
        "    # initialize a list of template matching scores\n",
        "    scores = []\n",
        "\n",
        "    # loop over the reference digit name and digit ROI\n",
        "    for (digit, digitROI) in digits.items():\n",
        "      # apply correlation-based template matching, take the score, and update the scores list\n",
        "      result = cv2.matchTemplate(roi, digitROI, cv2.TM_CCOEFF)\n",
        "      (_, score, _, _) = cv2.minMaxLoc(result)\n",
        "      scores.append(score)\n",
        "\n",
        "    # the classification for the digit ROI will be the reference\n",
        "    # digit name with the *largest* template matching score\n",
        "    if max(scores) > 100000:\n",
        "      groupOutput.append(str(np.argmax(scores)))\n",
        "\n",
        "  # draw the digit classifications around the group\n",
        "  cv2.rectangle(image, (gX - 5, gY - 5), (gX + gW + 5, gY + gH + 5), (0, 0, 255), 2)\n",
        "  cv2.putText(image, \"\".join(groupOutput), (gX, gY - 15), cv2.FONT_HERSHEY_SIMPLEX, 0.65, (0, 0, 255), 2)\n",
        "\n",
        "  # update the output digits list\n",
        "  output.extend(groupOutput)"
      ],
      "metadata": {
        "id": "IsjIisnzuOG5"
      },
      "execution_count": null,
      "outputs": []
    },
    {
      "cell_type": "code",
      "source": [
        "print(\"Credit Card #: {}\".format(\"\".join(output)))\n",
        "cv2_imshow(image)"
      ],
      "metadata": {
        "id": "USdM86E7uOEY"
      },
      "execution_count": null,
      "outputs": []
    }
  ]
}